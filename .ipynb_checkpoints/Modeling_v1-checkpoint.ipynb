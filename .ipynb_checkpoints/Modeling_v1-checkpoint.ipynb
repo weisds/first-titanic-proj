{
 "cells": [
  {
   "cell_type": "code",
   "execution_count": 116,
   "metadata": {},
   "outputs": [],
   "source": [
    "#setting up libraries\n",
    "import pandas as pd\n",
    "import numpy as np\n",
    "from sklearn.preprocessing import OneHotEncoder\n",
    "from sklearn.impute import SimpleImputer\n",
    "from sklearn.linear_model import LogisticRegression\n",
    "from sklearn.feature_selection import SelectFromModel\n",
    "from sklearn.feature_selection import SelectKBest, f_classif\n",
    "from sklearn.tree import DecisionTreeRegressor\n",
    "from sklearn.tree import DecisionTreeClassifier\n",
    "from sklearn.metrics import accuracy_score\n",
    "from sklearn.ensemble import RandomForestRegressor\n",
    "from sklearn.ensemble import RandomForestClassifier\n",
    "from xgboost import XGBRegressor\n",
    "from xgboost import XGBRFClassifier"
   ]
  },
  {
   "cell_type": "code",
   "execution_count": 19,
   "metadata": {},
   "outputs": [],
   "source": [
    "#load data\n",
    "train_data = pd.read_csv('data/train.csv')\n",
    "test_data = pd.read_csv('data/test.csv')\n",
    "gs_data = pd.read_csv('data/gender_submission.csv')\n",
    "\n",
    "#merging test_data and gs_data just to make sure the values are aligned\n",
    "test_data = test_data.merge(gs_data)"
   ]
  },
  {
   "cell_type": "code",
   "execution_count": 20,
   "metadata": {},
   "outputs": [],
   "source": [
    "def data_preprocess (source_df):\n",
    "    \n",
    "    #first we drop the unwanted columns\n",
    "    source_df_droped = source_df.drop(['PassengerId','Name','Ticket','Cabin'], axis=1)\n",
    "\n",
    "    \n",
    "    #then we impute Age\n",
    "    age_imputer = SimpleImputer()\n",
    "    source_df_droped_justAge = source_df_droped.loc[:, source_df_droped.columns == 'Age']\n",
    "    imputed_Age = pd.DataFrame(age_imputer.fit_transform(source_df_droped_justAge))\n",
    "\n",
    "    #impute removes column name, adding it back\n",
    "    imputed_Age.columns = source_df_droped_justAge.columns\n",
    "    \n",
    "\n",
    "    #adding imputed data to the source df\n",
    "    source_df_imputed = source_df_droped.drop('Age', axis=1).join(imputed_Age)\n",
    "    \n",
    "    #lesson learned, I should impute data before droping rows, and deleting rows is not a good idea, let's impute with most common values\n",
    "    source_df_imputed[\"Embarked\"] = source_df_imputed[\"Embarked\"].fillna(source_df_imputed[\"Embarked\"].value_counts().index[0])\n",
    "    source_df_imputed[\"Fare\"] = source_df_imputed[\"Fare\"].fillna(source_df_imputed[\"Fare\"].value_counts().index[0])\n",
    "    \n",
    "    #next we apply One-Hot\n",
    "    OH_en = OneHotEncoder(handle_unknown='ignore', sparse=False)\n",
    "    OH_source_df_imputed_col = OH_en.fit_transform(source_df_imputed[['Sex','Embarked']])\n",
    "    OH_source_df_imputed_col = pd.DataFrame(OH_source_df_imputed_col)\n",
    "    \n",
    "    #alining index \n",
    "    OH_source_df_imputed_col.index = source_df_imputed[['Sex','Embarked']].index\n",
    "    #alining columns\n",
    "    OH_source_df_imputed_col.columns = OH_en.get_feature_names(['Sex','Embarked'])\n",
    "    processed_df = source_df_imputed.drop(['Sex','Embarked'], axis=1).join(OH_source_df_imputed_col)\n",
    "\n",
    "    \n",
    "    return processed_df"
   ]
  },
  {
   "cell_type": "code",
   "execution_count": 137,
   "metadata": {},
   "outputs": [],
   "source": [
    "def kv_feature (train_set, test_set,k_value):\n",
    "    f_cols = train_set.columns.drop('Survived')\n",
    "    #we have 10 features, let's keep five to avoid overfitting\n",
    "    selector = SelectKBest(f_classif, k=k_value)\n",
    "    X_new = selector.fit_transform(train_set[f_cols], train_set['Survived'])\n",
    "    \n",
    "    #transforming back to the original df format\n",
    "    selected_features = pd.DataFrame(selector.inverse_transform(X_new), \n",
    "                                 index=train_set.index, \n",
    "                                 columns=f_cols)\n",
    "    selected_columns = selected_features.columns[selected_features.var() != 0]\n",
    "    \n",
    "    return train_set[selected_columns], train_set['Survived'], test_set[selected_columns], test_set['Survived']"
   ]
  },
  {
   "cell_type": "code",
   "execution_count": 22,
   "metadata": {},
   "outputs": [],
   "source": [
    "def L_one_feature (train_set, test_set):\n",
    "    f_cols = train_set.columns.drop('Survived')\n",
    "    X, y = train_set[f_cols], train_set['Survived']\n",
    "\n",
    "    # Setting up the model\n",
    "    logistic = LogisticRegression(C=1, penalty=\"l1\", solver='liblinear', random_state=7).fit(X, y)\n",
    "    model = SelectFromModel(logistic, prefit=True)\n",
    "    \n",
    "    #applying the model\n",
    "    X_new = model.transform(X)\n",
    "    \n",
    "    #transforming back to the original df format\n",
    "    selected_features = pd.DataFrame(model.inverse_transform(X_new), \n",
    "                                 index=X.index,\n",
    "                                 columns=X.columns)\n",
    "    selected_columns = selected_features.columns[selected_features.var() != 0]\n",
    "    \n",
    "    return train_set[selected_columns], train_set['Survived'], test_set[selected_columns], test_set['Survived']"
   ]
  },
  {
   "cell_type": "code",
   "execution_count": 23,
   "metadata": {},
   "outputs": [],
   "source": [
    "def acc_cal (pred_data, result):\n",
    "    comp = pred_data == result\n",
    "    #need to convert to list to use count(True)\n",
    "    num_r = comp.tolist().count(True)\n",
    "    acc_p = num_r/len(comp.tolist())\n",
    "    return acc_p"
   ]
  },
  {
   "cell_type": "code",
   "execution_count": 121,
   "metadata": {},
   "outputs": [],
   "source": [
    "def dt (X_train, y_train, X_test, y_test):\n",
    "    dt_model = DecisionTreeClassifier(random_state=1)\n",
    "    dt_model.fit(X_train, y_train)\n",
    "    \n",
    "    score = acc_cal(dt_model.predict(X_test), y_test)\n",
    "    return score"
   ]
  },
  {
   "cell_type": "code",
   "execution_count": 122,
   "metadata": {},
   "outputs": [],
   "source": [
    "train_clean = data_preprocess(train_data)\n",
    "test_clean = data_preprocess(test_data)"
   ]
  },
  {
   "cell_type": "code",
   "execution_count": 123,
   "metadata": {},
   "outputs": [],
   "source": [
    "acc_dt = dt(train_clean.drop('Survived', axis = 1), train_clean.Survived, test_clean.drop('Survived', axis = 1), test_clean.Survived)"
   ]
  },
  {
   "cell_type": "code",
   "execution_count": 124,
   "metadata": {},
   "outputs": [
    {
     "data": {
      "text/plain": [
       "0.784688995215311"
      ]
     },
     "execution_count": 124,
     "metadata": {},
     "output_type": "execute_result"
    }
   ],
   "source": [
    "acc_dt"
   ]
  },
  {
   "cell_type": "code",
   "execution_count": 60,
   "metadata": {},
   "outputs": [],
   "source": [
    "#define the Random Forest Model\n",
    "def rf (X_train, y_train, X_test, y_test):\n",
    "    forest_model = RandomForestClassifier(random_state=1)\n",
    "    forest_model.fit(X_train, y_train)\n",
    "    pred = forest_model.predict(X_test)\n",
    "    score = acc_cal(pred, y_test)\n",
    "    return score\n",
    "    "
   ]
  },
  {
   "cell_type": "code",
   "execution_count": 61,
   "metadata": {},
   "outputs": [
    {
     "data": {
      "text/plain": [
       "0.7990430622009569"
      ]
     },
     "execution_count": 61,
     "metadata": {},
     "output_type": "execute_result"
    }
   ],
   "source": [
    "acc_rf = rf(train_clean.drop('Survived', axis = 1), train_clean.Survived, test_clean.drop('Survived', axis = 1), test_clean.Survived)\n",
    "acc_rf"
   ]
  },
  {
   "cell_type": "code",
   "execution_count": 59,
   "metadata": {},
   "outputs": [],
   "source": [
    "#such a low result, could be caused by overfitting"
   ]
  },
  {
   "cell_type": "code",
   "execution_count": 98,
   "metadata": {},
   "outputs": [],
   "source": [
    "def xgb (X_train, y_train, X_test, y_test):\n",
    "    xgb_model = XGBRFClassifier(n_estimators=10000)\n",
    "    xgb_model.fit(X_train, y_train)\n",
    "    pred = xgb_model.predict(X_test)\n",
    "    score = acc_cal(pred, y_test)\n",
    "    return score\n",
    "    "
   ]
  },
  {
   "cell_type": "code",
   "execution_count": 99,
   "metadata": {},
   "outputs": [
    {
     "data": {
      "text/plain": [
       "0.9712918660287081"
      ]
     },
     "execution_count": 99,
     "metadata": {},
     "output_type": "execute_result"
    }
   ],
   "source": [
    "acc_xgb = xgb(train_clean.drop('Survived', axis = 1), train_clean.Survived, test_clean.drop('Survived', axis = 1), test_clean.Survived)\n",
    "acc_xgb"
   ]
  },
  {
   "cell_type": "code",
   "execution_count": 106,
   "metadata": {},
   "outputs": [],
   "source": [
    "def xgb_tuned (X_train, y_train, X_test, y_test):\n",
    "    xgb_model = XGBRFClassifier(n_estimators=10000, learning_rate=0.05)\n",
    "    xgb_model.fit(X_train, y_train, \n",
    "             early_stopping_rounds=5, \n",
    "             eval_set=[(X_test, y_test)], \n",
    "             verbose=False)\n",
    "    pred = xgb_model.predict(X_test)\n",
    "    score = acc_cal(pred, y_test)\n",
    "    return score"
   ]
  },
  {
   "cell_type": "code",
   "execution_count": 107,
   "metadata": {},
   "outputs": [
    {
     "data": {
      "text/plain": [
       "0.9712918660287081"
      ]
     },
     "execution_count": 107,
     "metadata": {},
     "output_type": "execute_result"
    }
   ],
   "source": [
    "acc_xgb_t = xgb_tuned(train_clean.drop('Survived', axis = 1), train_clean.Survived, test_clean.drop('Survived', axis = 1), test_clean.Survived)\n",
    "acc_xgb_t"
   ]
  },
  {
   "cell_type": "code",
   "execution_count": 127,
   "metadata": {},
   "outputs": [],
   "source": [
    "#define a function to run call tested models\n",
    "def run_models(X_train, y_train, X_test, y_test):\n",
    "\n",
    "    #run decision tree model\n",
    "    score_dt = dt(X_train, y_train, X_test, y_test)\n",
    "    \n",
    "    #run the Random Forest Model\n",
    "    score_rf = rf(X_train, y_train, X_test, y_test)\n",
    "    \n",
    "    #run the XGB tuned model\n",
    "    score_xgb = xgb_tuned(X_train, y_train, X_test, y_test)\n",
    "    \n",
    "    \n",
    "    print(score_dt)\n",
    "    print(score_rf)\n",
    "    print(score_xgb)\n",
    "    "
   ]
  },
  {
   "cell_type": "code",
   "execution_count": 128,
   "metadata": {},
   "outputs": [
    {
     "name": "stdout",
     "output_type": "stream",
     "text": [
      "0.784688995215311\n",
      "0.7990430622009569\n",
      "0.9712918660287081\n"
     ]
    }
   ],
   "source": [
    "run_models(train_clean.drop('Survived', axis = 1), train_clean.Survived, test_clean.drop('Survived', axis = 1), test_clean.Survived)"
   ]
  },
  {
   "cell_type": "code",
   "execution_count": 154,
   "metadata": {},
   "outputs": [
    {
     "name": "stdout",
     "output_type": "stream",
     "text": [
      "0.8660287081339713\n",
      "0.8660287081339713\n",
      "0.9856459330143541\n"
     ]
    }
   ],
   "source": [
    "X_kv_train, y_kv_train, X_kv_test, y_kv_test = kv_feature(train_clean, test_clean, 4)\n",
    "run_models(X_kv_train, y_kv_train, X_kv_test, y_kv_test)"
   ]
  },
  {
   "cell_type": "code",
   "execution_count": 136,
   "metadata": {},
   "outputs": [
    {
     "name": "stdout",
     "output_type": "stream",
     "text": [
      "0.7751196172248804\n",
      "0.7942583732057417\n",
      "0.9712918660287081\n"
     ]
    }
   ],
   "source": [
    "X_L_one_train, y_L_one_train, X_L_one_test, y_L_one_test = L_one_feature(train_clean, test_clean)\n",
    "run_models(X_L_one_train, y_L_one_train, X_L_one_test, y_L_one_test)"
   ]
  },
  {
   "cell_type": "code",
   "execution_count": 155,
   "metadata": {},
   "outputs": [
    {
     "data": {
      "text/html": [
       "<div>\n",
       "<style scoped>\n",
       "    .dataframe tbody tr th:only-of-type {\n",
       "        vertical-align: middle;\n",
       "    }\n",
       "\n",
       "    .dataframe tbody tr th {\n",
       "        vertical-align: top;\n",
       "    }\n",
       "\n",
       "    .dataframe thead th {\n",
       "        text-align: right;\n",
       "    }\n",
       "</style>\n",
       "<table border=\"1\" class=\"dataframe\">\n",
       "  <thead>\n",
       "    <tr style=\"text-align: right;\">\n",
       "      <th></th>\n",
       "      <th>Pclass</th>\n",
       "      <th>Fare</th>\n",
       "      <th>Sex_female</th>\n",
       "      <th>Sex_male</th>\n",
       "    </tr>\n",
       "  </thead>\n",
       "  <tbody>\n",
       "    <tr>\n",
       "      <th>0</th>\n",
       "      <td>3</td>\n",
       "      <td>7.2500</td>\n",
       "      <td>0.0</td>\n",
       "      <td>1.0</td>\n",
       "    </tr>\n",
       "    <tr>\n",
       "      <th>1</th>\n",
       "      <td>1</td>\n",
       "      <td>71.2833</td>\n",
       "      <td>1.0</td>\n",
       "      <td>0.0</td>\n",
       "    </tr>\n",
       "    <tr>\n",
       "      <th>2</th>\n",
       "      <td>3</td>\n",
       "      <td>7.9250</td>\n",
       "      <td>1.0</td>\n",
       "      <td>0.0</td>\n",
       "    </tr>\n",
       "    <tr>\n",
       "      <th>3</th>\n",
       "      <td>1</td>\n",
       "      <td>53.1000</td>\n",
       "      <td>1.0</td>\n",
       "      <td>0.0</td>\n",
       "    </tr>\n",
       "    <tr>\n",
       "      <th>4</th>\n",
       "      <td>3</td>\n",
       "      <td>8.0500</td>\n",
       "      <td>0.0</td>\n",
       "      <td>1.0</td>\n",
       "    </tr>\n",
       "    <tr>\n",
       "      <th>...</th>\n",
       "      <td>...</td>\n",
       "      <td>...</td>\n",
       "      <td>...</td>\n",
       "      <td>...</td>\n",
       "    </tr>\n",
       "    <tr>\n",
       "      <th>886</th>\n",
       "      <td>2</td>\n",
       "      <td>13.0000</td>\n",
       "      <td>0.0</td>\n",
       "      <td>1.0</td>\n",
       "    </tr>\n",
       "    <tr>\n",
       "      <th>887</th>\n",
       "      <td>1</td>\n",
       "      <td>30.0000</td>\n",
       "      <td>1.0</td>\n",
       "      <td>0.0</td>\n",
       "    </tr>\n",
       "    <tr>\n",
       "      <th>888</th>\n",
       "      <td>3</td>\n",
       "      <td>23.4500</td>\n",
       "      <td>1.0</td>\n",
       "      <td>0.0</td>\n",
       "    </tr>\n",
       "    <tr>\n",
       "      <th>889</th>\n",
       "      <td>1</td>\n",
       "      <td>30.0000</td>\n",
       "      <td>0.0</td>\n",
       "      <td>1.0</td>\n",
       "    </tr>\n",
       "    <tr>\n",
       "      <th>890</th>\n",
       "      <td>3</td>\n",
       "      <td>7.7500</td>\n",
       "      <td>0.0</td>\n",
       "      <td>1.0</td>\n",
       "    </tr>\n",
       "  </tbody>\n",
       "</table>\n",
       "<p>891 rows × 4 columns</p>\n",
       "</div>"
      ],
      "text/plain": [
       "     Pclass     Fare  Sex_female  Sex_male\n",
       "0         3   7.2500         0.0       1.0\n",
       "1         1  71.2833         1.0       0.0\n",
       "2         3   7.9250         1.0       0.0\n",
       "3         1  53.1000         1.0       0.0\n",
       "4         3   8.0500         0.0       1.0\n",
       "..      ...      ...         ...       ...\n",
       "886       2  13.0000         0.0       1.0\n",
       "887       1  30.0000         1.0       0.0\n",
       "888       3  23.4500         1.0       0.0\n",
       "889       1  30.0000         0.0       1.0\n",
       "890       3   7.7500         0.0       1.0\n",
       "\n",
       "[891 rows x 4 columns]"
      ]
     },
     "execution_count": 155,
     "metadata": {},
     "output_type": "execute_result"
    }
   ],
   "source": [
    "X_kv_train"
   ]
  },
  {
   "cell_type": "code",
   "execution_count": 145,
   "metadata": {},
   "outputs": [
    {
     "data": {
      "text/plain": [
       "0      0\n",
       "1      1\n",
       "2      1\n",
       "3      1\n",
       "4      0\n",
       "      ..\n",
       "886    0\n",
       "887    1\n",
       "888    0\n",
       "889    1\n",
       "890    0\n",
       "Name: Survived, Length: 891, dtype: int64"
      ]
     },
     "execution_count": 145,
     "metadata": {},
     "output_type": "execute_result"
    }
   ],
   "source": [
    "y_kv_train"
   ]
  },
  {
   "cell_type": "code",
   "execution_count": 147,
   "metadata": {},
   "outputs": [
    {
     "data": {
      "text/html": [
       "<div>\n",
       "<style scoped>\n",
       "    .dataframe tbody tr th:only-of-type {\n",
       "        vertical-align: middle;\n",
       "    }\n",
       "\n",
       "    .dataframe tbody tr th {\n",
       "        vertical-align: top;\n",
       "    }\n",
       "\n",
       "    .dataframe thead th {\n",
       "        text-align: right;\n",
       "    }\n",
       "</style>\n",
       "<table border=\"1\" class=\"dataframe\">\n",
       "  <thead>\n",
       "    <tr style=\"text-align: right;\">\n",
       "      <th></th>\n",
       "      <th>Sex_female</th>\n",
       "    </tr>\n",
       "  </thead>\n",
       "  <tbody>\n",
       "    <tr>\n",
       "      <th>0</th>\n",
       "      <td>0.0</td>\n",
       "    </tr>\n",
       "    <tr>\n",
       "      <th>1</th>\n",
       "      <td>1.0</td>\n",
       "    </tr>\n",
       "    <tr>\n",
       "      <th>2</th>\n",
       "      <td>0.0</td>\n",
       "    </tr>\n",
       "    <tr>\n",
       "      <th>3</th>\n",
       "      <td>0.0</td>\n",
       "    </tr>\n",
       "    <tr>\n",
       "      <th>4</th>\n",
       "      <td>1.0</td>\n",
       "    </tr>\n",
       "    <tr>\n",
       "      <th>...</th>\n",
       "      <td>...</td>\n",
       "    </tr>\n",
       "    <tr>\n",
       "      <th>413</th>\n",
       "      <td>0.0</td>\n",
       "    </tr>\n",
       "    <tr>\n",
       "      <th>414</th>\n",
       "      <td>1.0</td>\n",
       "    </tr>\n",
       "    <tr>\n",
       "      <th>415</th>\n",
       "      <td>0.0</td>\n",
       "    </tr>\n",
       "    <tr>\n",
       "      <th>416</th>\n",
       "      <td>0.0</td>\n",
       "    </tr>\n",
       "    <tr>\n",
       "      <th>417</th>\n",
       "      <td>0.0</td>\n",
       "    </tr>\n",
       "  </tbody>\n",
       "</table>\n",
       "<p>418 rows × 1 columns</p>\n",
       "</div>"
      ],
      "text/plain": [
       "     Sex_female\n",
       "0           0.0\n",
       "1           1.0\n",
       "2           0.0\n",
       "3           0.0\n",
       "4           1.0\n",
       "..          ...\n",
       "413         0.0\n",
       "414         1.0\n",
       "415         0.0\n",
       "416         0.0\n",
       "417         0.0\n",
       "\n",
       "[418 rows x 1 columns]"
      ]
     },
     "execution_count": 147,
     "metadata": {},
     "output_type": "execute_result"
    }
   ],
   "source": [
    "X_kv_test"
   ]
  },
  {
   "cell_type": "code",
   "execution_count": null,
   "metadata": {},
   "outputs": [],
   "source": []
  }
 ],
 "metadata": {
  "kernelspec": {
   "display_name": "Python 3",
   "language": "python",
   "name": "python3"
  },
  "language_info": {
   "codemirror_mode": {
    "name": "ipython",
    "version": 3
   },
   "file_extension": ".py",
   "mimetype": "text/x-python",
   "name": "python",
   "nbconvert_exporter": "python",
   "pygments_lexer": "ipython3",
   "version": "3.7.6"
  }
 },
 "nbformat": 4,
 "nbformat_minor": 4
}
